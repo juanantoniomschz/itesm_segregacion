{
 "cells": [
  {
   "cell_type": "code",
   "execution_count": 1,
   "metadata": {},
   "outputs": [],
   "source": [
    "import pandas as pd\n",
    "import numpy as np\n",
    "import geopandas as gpd\n",
    "import os\n",
    "\n",
    "pd.options.display.max_columns = None"
   ]
  },
  {
   "cell_type": "code",
   "execution_count": 2,
   "metadata": {},
   "outputs": [
    {
     "ename": "FileNotFoundError",
     "evalue": "[Errno 2] No such file or directory: '/home/jovyan/work/data'",
     "output_type": "error",
     "traceback": [
      "\u001b[0;31m\u001b[0m",
      "\u001b[0;31mFileNotFoundError\u001b[0mTraceback (most recent call last)",
      "\u001b[0;32m<ipython-input-2-7605220e42d6>\u001b[0m in \u001b[0;36m<module>\u001b[0;34m\u001b[0m\n\u001b[0;32m----> 1\u001b[0;31m \u001b[0mos\u001b[0m\u001b[0;34m.\u001b[0m\u001b[0mchdir\u001b[0m\u001b[0;34m(\u001b[0m\u001b[0;34m'/home/jovyan/work/data'\u001b[0m\u001b[0;34m)\u001b[0m\u001b[0;34m\u001b[0m\u001b[0;34m\u001b[0m\u001b[0m\n\u001b[0m",
      "\u001b[0;31mFileNotFoundError\u001b[0m: [Errno 2] No such file or directory: '/home/jovyan/work/data'"
     ]
    }
   ],
   "source": [
    "os.chdir('/home/jovyan/work/data')"
   ]
  },
  {
   "cell_type": "code",
   "execution_count": null,
   "metadata": {},
   "outputs": [],
   "source": [
    "os_path = os.getcwd()\n",
    "\n",
    "sh_path = '/shape_file/19a.shp'\n",
    "\n",
    "censo_gdf =  gpd.read_file(os_path + sh_path, na_values = ['*'])\n",
    "print(censo_gdf.shape)\n",
    "censo_gdf.head()"
   ]
  },
  {
   "cell_type": "code",
   "execution_count": null,
   "metadata": {},
   "outputs": [],
   "source": [
    "# Observamos 1 problema, existen 'Leading Zeros' en 4 columnas del objeto, por lo que al hacer merge con el csv\n",
    "# nos daría un error. Mediante lstrip() eliminamos estos ceros y podemos hacer un merge normal"
   ]
  },
  {
   "cell_type": "code",
   "execution_count": null,
   "metadata": {},
   "outputs": [],
   "source": [
    "censo_gdf['CVE_MUN'] = censo_gdf['CVE_MUN'].apply(lambda x: x.lstrip('0'))\n",
    "censo_gdf['CVE_LOC'] = censo_gdf['CVE_LOC'].apply(lambda x: x.lstrip('0'))\n",
    "censo_gdf['CVE_AGEB'] = censo_gdf['CVE_AGEB'].apply(lambda x: x.lstrip('0'))\n",
    "censo_gdf.head()"
   ]
  },
  {
   "cell_type": "code",
   "execution_count": null,
   "metadata": {},
   "outputs": [],
   "source": [
    "ageb_path = '/shape_file/agebs_2021.csv'\n",
    "\n",
    "df_ageb = pd.read_csv(os_path + ageb_path, encoding = 'iso-8859-1', na_values = ['*'])\n",
    "print(df_ageb.shape)\n",
    "df_ageb.head()"
   ]
  }
 ],
 "metadata": {
  "kernelspec": {
   "display_name": "Python 3",
   "language": "python",
   "name": "python3"
  },
  "language_info": {
   "codemirror_mode": {
    "name": "ipython",
    "version": 3
   },
   "file_extension": ".py",
   "mimetype": "text/x-python",
   "name": "python",
   "nbconvert_exporter": "python",
   "pygments_lexer": "ipython3",
   "version": "3.9.1"
  }
 },
 "nbformat": 4,
 "nbformat_minor": 4
}
